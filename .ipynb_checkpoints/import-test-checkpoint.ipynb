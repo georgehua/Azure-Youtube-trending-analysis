{
 "cells": [
  {
   "cell_type": "code",
   "execution_count": 5,
   "metadata": {},
   "outputs": [],
   "source": [
    "# Sample Python code for youtube.videos.list\n",
    "# See instructions for running these code samples locally:\n",
    "# https://developers.google.com/explorer-help/guides/code_samples#python\n",
    "\n",
    "import json\n",
    "import os\n",
    "import google_auth_oauthlib.flow\n",
    "import googleapiclient.discovery\n",
    "import googleapiclient.errors\n",
    "\n",
    "with open('client_secret.json') as json_file:\n",
    "    credentials = json.load(json_file)\n",
    "        \n",
    "scopes = [\"https://www.googleapis.com/auth/youtube.readonly\"]"
   ]
  },
  {
   "cell_type": "code",
   "execution_count": 20,
   "metadata": {},
   "outputs": [],
   "source": [
    "def fetchYoutube():\n",
    "    # Disable OAuthlib's HTTPS verification when running locally.\n",
    "    # *DO NOT* leave this option enabled in production.\n",
    "    os.environ[\"OAUTHLIB_INSECURE_TRANSPORT\"] = \"1\"\n",
    "\n",
    "    api_service_name = \"youtube\"\n",
    "    api_version = \"v3\"\n",
    "    DEVELOPER_KEY = credentials['youtube_api_key']\n",
    "\n",
    "    youtube = googleapiclient.discovery.build(\n",
    "        api_service_name, api_version, developerKey = DEVELOPER_KEY)\n",
    "\n",
    "    request = youtube.search().list(\n",
    "        part=\"snippet\",\n",
    "        maxResults=1,\n",
    "        order=\"viewCount\",\n",
    "        q=\"a|b|c|d|e|f|g|h|i|j|k|l|m|n|o|p|q|r|s|t|u|v|w|x|y|z|1|1|2|3|4|5|6|7|8|9|0\",\n",
    "        regionCode=\"us\",\n",
    "        type=\"video\"\n",
    "    )\n",
    "    response = request.execute()\n",
    "\n",
    "    return response"
   ]
  },
  {
   "cell_type": "code",
   "execution_count": 21,
   "metadata": {},
   "outputs": [],
   "source": [
    "result = fetchYoutube()"
   ]
  },
  {
   "cell_type": "code",
   "execution_count": 22,
   "metadata": {},
   "outputs": [
    {
     "name": "stdout",
     "output_type": "stream",
     "text": [
      "{\n",
      "  \"kind\": \"youtube#searchListResponse\",\n",
      "  \"etag\": \"\\\"p4VTdlkQv3HQeTEaXgvLePAydmU/vTpJ1MJFkfS5br4bKX-LsJ3kL5E\\\"\",\n",
      "  \"nextPageToken\": \"CAEQAA\",\n",
      "  \"regionCode\": \"US\",\n",
      "  \"pageInfo\": {\n",
      "    \"totalResults\": 1000000,\n",
      "    \"resultsPerPage\": 1\n",
      "  },\n",
      "  \"items\": [\n",
      "    {\n",
      "      \"kind\": \"youtube#searchResult\",\n",
      "      \"etag\": \"\\\"p4VTdlkQv3HQeTEaXgvLePAydmU/QbU0DEQ5X6fCCU_bn9FXCyV87KQ\\\"\",\n",
      "      \"id\": {\n",
      "        \"kind\": \"youtube#video\",\n",
      "        \"videoId\": \"JGwWNGJdvx8\"\n",
      "      },\n",
      "      \"snippet\": {\n",
      "        \"publishedAt\": \"2017-01-30T10:57:50.000Z\",\n",
      "        \"channelId\": \"UC0C-w0YjGpqDXGB8IHb662A\",\n",
      "        \"title\": \"Ed Sheeran - Shape of You [Official Video]\",\n",
      "        \"description\": \"Tickets for the Divide tour here - http://www.edsheeran.com/tour Stream or Download Shape Of You: https://atlanti.cr/2singles \\u00f7. Out Now: ...\",\n",
      "        \"thumbnails\": {\n",
      "          \"default\": {\n",
      "            \"url\": \"https://i.ytimg.com/vi/JGwWNGJdvx8/default.jpg\",\n",
      "            \"width\": 120,\n",
      "            \"height\": 90\n",
      "          },\n",
      "          \"medium\": {\n",
      "            \"url\": \"https://i.ytimg.com/vi/JGwWNGJdvx8/mqdefault.jpg\",\n",
      "            \"width\": 320,\n",
      "            \"height\": 180\n",
      "          },\n",
      "          \"high\": {\n",
      "            \"url\": \"https://i.ytimg.com/vi/JGwWNGJdvx8/hqdefault.jpg\",\n",
      "            \"width\": 480,\n",
      "            \"height\": 360\n",
      "          }\n",
      "        },\n",
      "        \"channelTitle\": \"Ed Sheeran\",\n",
      "        \"liveBroadcastContent\": \"none\"\n",
      "      }\n",
      "    }\n",
      "  ]\n",
      "}\n"
     ]
    }
   ],
   "source": [
    "print(json.dumps(result, indent=2))"
   ]
  },
  {
   "cell_type": "code",
   "execution_count": null,
   "metadata": {},
   "outputs": [],
   "source": []
  }
 ],
 "metadata": {
  "kernelspec": {
   "display_name": "Python 3",
   "language": "python",
   "name": "python3"
  },
  "language_info": {
   "codemirror_mode": {
    "name": "ipython",
    "version": 3
   },
   "file_extension": ".py",
   "mimetype": "text/x-python",
   "name": "python",
   "nbconvert_exporter": "python",
   "pygments_lexer": "ipython3",
   "version": "3.7.3"
  }
 },
 "nbformat": 4,
 "nbformat_minor": 2
}
