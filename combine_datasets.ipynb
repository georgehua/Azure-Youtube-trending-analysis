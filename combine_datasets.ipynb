{
 "cells": [
  {
   "cell_type": "code",
   "execution_count": 95,
   "metadata": {},
   "outputs": [],
   "source": [
    "import glob\n",
    "import pandas as pd\n",
    "import numpy as np\n",
    "\n",
    "import isodate"
   ]
  },
  {
   "cell_type": "code",
   "execution_count": 255,
   "metadata": {},
   "outputs": [],
   "source": [
    "#config\n",
    "\n",
    "COUNTRY_CODE = 'US'"
   ]
  },
  {
   "cell_type": "code",
   "execution_count": 256,
   "metadata": {},
   "outputs": [
    {
     "name": "stdout",
     "output_type": "stream",
     "text": [
      "checking C:\\Users\\George\\Desktop\\coding-ground\\Trending-YouTube-Scraper\\output\\19.01.11_US_videos.csv\n",
      "checking C:\\Users\\George\\Desktop\\coding-ground\\Trending-YouTube-Scraper\\output\\19.02.11_US_videos.csv\n",
      "checking C:\\Users\\George\\Desktop\\coding-ground\\Trending-YouTube-Scraper\\output\\19.03.11_US_videos.csv\n",
      "checking C:\\Users\\George\\Desktop\\coding-ground\\Trending-YouTube-Scraper\\output\\19.04.11_US_videos.csv\n",
      "checking C:\\Users\\George\\Desktop\\coding-ground\\Trending-YouTube-Scraper\\output\\19.15.10_US_videos.csv\n",
      "checking C:\\Users\\George\\Desktop\\coding-ground\\Trending-YouTube-Scraper\\output\\19.16.10_US_videos.csv\n",
      "checking C:\\Users\\George\\Desktop\\coding-ground\\Trending-YouTube-Scraper\\output\\19.17.10_US_videos.csv\n",
      "checking C:\\Users\\George\\Desktop\\coding-ground\\Trending-YouTube-Scraper\\output\\19.18.10_US_videos.csv\n",
      "checking C:\\Users\\George\\Desktop\\coding-ground\\Trending-YouTube-Scraper\\output\\19.19.10_US_videos.csv\n",
      "checking C:\\Users\\George\\Desktop\\coding-ground\\Trending-YouTube-Scraper\\output\\19.20.10_US_videos.csv\n",
      "checking C:\\Users\\George\\Desktop\\coding-ground\\Trending-YouTube-Scraper\\output\\19.21.10_US_videos.csv\n",
      "checking C:\\Users\\George\\Desktop\\coding-ground\\Trending-YouTube-Scraper\\output\\19.22.10_US_videos.csv\n",
      "checking C:\\Users\\George\\Desktop\\coding-ground\\Trending-YouTube-Scraper\\output\\19.23.10_US_videos.csv\n",
      "checking C:\\Users\\George\\Desktop\\coding-ground\\Trending-YouTube-Scraper\\output\\19.24.10_US_videos.csv\n",
      "checking C:\\Users\\George\\Desktop\\coding-ground\\Trending-YouTube-Scraper\\output\\19.25.10_US_videos.csv\n",
      "checking C:\\Users\\George\\Desktop\\coding-ground\\Trending-YouTube-Scraper\\output\\19.26.10_US_videos.csv\n",
      "checking C:\\Users\\George\\Desktop\\coding-ground\\Trending-YouTube-Scraper\\output\\19.27.10_US_videos.csv\n",
      "checking C:\\Users\\George\\Desktop\\coding-ground\\Trending-YouTube-Scraper\\output\\19.28.10_US_videos.csv\n",
      "checking C:\\Users\\George\\Desktop\\coding-ground\\Trending-YouTube-Scraper\\output\\19.29.10_US_videos.csv\n",
      "checking C:\\Users\\George\\Desktop\\coding-ground\\Trending-YouTube-Scraper\\output\\19.30.10_US_videos.csv\n",
      "checking C:\\Users\\George\\Desktop\\coding-ground\\Trending-YouTube-Scraper\\output\\19.31.10_US_videos.csv\n"
     ]
    }
   ],
   "source": [
    "# combine new datasets at first\n",
    "folder_contents = glob.glob(f\"C:\\\\Users\\\\George\\\\Desktop\\\\coding-ground\\\\Trending-YouTube-Scraper\\\\output\\\\*{COUNTRY_CODE}_videos.csv\")\n",
    "\n",
    "new_df = pd.DataFrame()\n",
    "\n",
    "for file in folder_contents:\n",
    "    print(\"checking\", file)\n",
    "    new_df = pd.concat([new_df, pd.read_csv(file)])\n",
    "\n",
    "# align new df to the same format to the old one\n",
    "# new_df['video_error_or_removed'] = False\n",
    "new_df = new_df.rename(columns = {'categoryId':'category_id', \n",
    "                         'publishedAt':'publish_time', \n",
    "                         'channelTitle':'channel_title',\n",
    "                         'view_count': 'views',\n",
    "                         'channelId': 'channel_id'}) "
   ]
  },
  {
   "cell_type": "code",
   "execution_count": 257,
   "metadata": {},
   "outputs": [],
   "source": [
    "# read old dataset\n",
    "old_df = pd.read_csv(f\"query_result/{COUNTRY_CODE}videos.csv\")"
   ]
  },
  {
   "cell_type": "code",
   "execution_count": 258,
   "metadata": {},
   "outputs": [],
   "source": [
    "# combine new dataset to the old one\n",
    "updated_df = pd.concat([old_df, new_df], sort=False)"
   ]
  },
  {
   "cell_type": "code",
   "execution_count": 259,
   "metadata": {},
   "outputs": [],
   "source": [
    "# before saving them, let's reformt some of the columns\n",
    "\n",
    "# convert trending_date 18.31.11 -> 2018-11-31\n",
    "def convert_trending_date(df):\n",
    "    df['trending_date'] = pd.to_datetime(df.trending_date, format='%y.%d.%m')\n",
    "    return df\n",
    "\n",
    "# convert duration to seconds\n",
    "# answer credit: https://stackoverflow.com/a/40432909\n",
    "def change_duration(df):\n",
    "    df1 = df[df.duration.notnull()]\n",
    "    df2 = df[df.duration.isnull()]\n",
    "    \n",
    "    df1['duration'] = df1['duration'].apply(isodate.parse_duration)\n",
    "    df1['duration'] = round(df1['duration']/np.timedelta64(1, 's'))\n",
    "    return pd.concat([df1, df2])\n",
    "\n",
    "## strip away quotation marks from tags\n",
    "def strip_quotation(string):    \n",
    "    temp = [x.strip('\"') for x in string.split('|')]\n",
    "    return \"|\".join(temp)    \n",
    "\n",
    "# format tag column\n",
    "def format_tags(df):\n",
    "    \n",
    "    df = df.replace(\"[none]\", np.nan)\n",
    "    \n",
    "    df1 = df[df.tags.isnull()]\n",
    "    df2 = df[df.tags.notnull()]\n",
    "    df2['tags'] = df2['tags'].apply(strip_quotation)\n",
    "    \n",
    "    return pd.concat([df1, df2])"
   ]
  },
  {
   "cell_type": "code",
   "execution_count": 260,
   "metadata": {},
   "outputs": [
    {
     "name": "stderr",
     "output_type": "stream",
     "text": [
      "C:\\Users\\George\\Anaconda3\\lib\\site-packages\\ipykernel_launcher.py:14: SettingWithCopyWarning: \n",
      "A value is trying to be set on a copy of a slice from a DataFrame.\n",
      "Try using .loc[row_indexer,col_indexer] = value instead\n",
      "\n",
      "See the caveats in the documentation: http://pandas.pydata.org/pandas-docs/stable/indexing.html#indexing-view-versus-copy\n",
      "  \n",
      "C:\\Users\\George\\Anaconda3\\lib\\site-packages\\ipykernel_launcher.py:15: SettingWithCopyWarning: \n",
      "A value is trying to be set on a copy of a slice from a DataFrame.\n",
      "Try using .loc[row_indexer,col_indexer] = value instead\n",
      "\n",
      "See the caveats in the documentation: http://pandas.pydata.org/pandas-docs/stable/indexing.html#indexing-view-versus-copy\n",
      "  from ipykernel import kernelapp as app\n",
      "C:\\Users\\George\\Anaconda3\\lib\\site-packages\\ipykernel_launcher.py:30: SettingWithCopyWarning: \n",
      "A value is trying to be set on a copy of a slice from a DataFrame.\n",
      "Try using .loc[row_indexer,col_indexer] = value instead\n",
      "\n",
      "See the caveats in the documentation: http://pandas.pydata.org/pandas-docs/stable/indexing.html#indexing-view-versus-copy\n"
     ]
    }
   ],
   "source": [
    "updated_df = change_duration(updated_df)\n",
    "updated_df = convert_trending_date(updated_df)\n",
    "updated_df = format_tags(updated_df)"
   ]
  },
  {
   "cell_type": "code",
   "execution_count": 261,
   "metadata": {},
   "outputs": [],
   "source": [
    "# write new file\n",
    "updated_df.to_csv(f\"final_dataset/{COUNTRY_CODE}videos.csv\", encoding='utf-8', index=False)"
   ]
  }
 ],
 "metadata": {
  "kernelspec": {
   "display_name": "Python 3",
   "language": "python",
   "name": "python3"
  },
  "language_info": {
   "codemirror_mode": {
    "name": "ipython",
    "version": 3
   },
   "file_extension": ".py",
   "mimetype": "text/x-python",
   "name": "python",
   "nbconvert_exporter": "python",
   "pygments_lexer": "ipython3",
   "version": "3.7.3"
  }
 },
 "nbformat": 4,
 "nbformat_minor": 2
}
